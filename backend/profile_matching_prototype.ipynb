{
 "cells": [
  {
   "cell_type": "code",
   "execution_count": null,
   "id": "ca4937c8",
   "metadata": {
    "vscode": {
     "languageId": "plaintext"
    }
   },
   "outputs": [],
   "source": [
    "# grab the user profile (ID IS IMPORTANT)\n",
    "# do a semantic search against all other users\n",
    "# match up, and have the agent suggest conversation startups.\n",
    "# how do i change the embeddings agaonst one another.\n",
    "# "
   ]
  }
 ],
 "metadata": {
  "language_info": {
   "name": "python"
  }
 },
 "nbformat": 4,
 "nbformat_minor": 5
}
