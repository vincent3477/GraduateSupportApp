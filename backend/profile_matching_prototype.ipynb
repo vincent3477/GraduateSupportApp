{
 "cells": [
  {
   "cell_type": "code",
   "execution_count": null,
   "id": "ca4937c8",
   "metadata": {
    "vscode": {
     "languageId": "plaintext"
    }
   },
   "outputs": [],
   "source": [
    "def generate_tasks(goal_lisst = []):\n"
   ]
  }
 ],
 "metadata": {
  "language_info": {
   "name": "python"
  }
 },
 "nbformat": 4,
 "nbformat_minor": 5
}
